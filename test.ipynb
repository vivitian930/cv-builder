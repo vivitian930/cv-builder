{
 "cells": [
  {
   "cell_type": "code",
   "execution_count": 22,
   "metadata": {},
   "outputs": [],
   "source": [
    "from langchain.output_parsers import PydanticOutputParser\n",
    "from pydantic import BaseModel, Field, validator\n",
    "from typing import List\n",
    "\n",
    "from langchain.chat_models import AzureChatOpenAI\n",
    "from langchain.prompts import PromptTemplate, ChatPromptTemplate, HumanMessagePromptTemplate\n",
    "from cv_builder.models import Resume\n",
    "from dotenv import load_dotenv\n",
    "\n",
    "load_dotenv()\n",
    "\n",
    "\n",
    "llm = AzureChatOpenAI(\n",
    "    deployment_name=\"gpt-35-16k\",\n",
    "    temperature=1,\n",
    "    # verbose=False,\n",
    "    # streaming=True,\n",
    "\n",
    ")\n",
    "\n",
    "# Set up a parser + inject instructions into the prompt template.\n",
    "pydantic_parser = PydanticOutputParser(pydantic_object=Resume)\n",
    "\n",
    "format_instructions = pydantic_parser.get_format_instructions()\n",
    "\n",
    "template_string = \"\"\"\n",
    "You are a professional resume builder who specialized in building resumes for postgraduate applications, including master's and PhD's. \n",
    "I will provide you several piecies of information about my background and experience. You will then extract my personal information, education, work experience, research experience, project experience, and personal statement.\n",
    "Below is the piece of information you will extract from:\n",
    "```{texts}```\n",
    "\n",
    "Then extract my personal information, education, work experience, research experience, project experience, and personal statement as much as you can.\n",
    "{format_instructions}\n",
    "\"\"\"\n",
    "\n",
    "prompt = ChatPromptTemplate.from_template(template=template_string)\n",
    "\n"
   ]
  },
  {
   "cell_type": "code",
   "execution_count": 23,
   "metadata": {},
   "outputs": [],
   "source": [
    "texts = \"\"\"\n",
    "Name: John Doe | Email: john.doe@example.com | Phone: 1234567890\n",
    "As a 2022 graduate, I intend to pursue postgraduate studies in New Zealand immediately after completing my undergraduate studies. Despite the impracticality of studying abroad due to the pandemic, I have taken proactive steps of enrolling in online courses during this one-year gap to enhance my knowledge in Electrical and Electronic engineering. These courses have covered essential subjects such as information technology, power systems, and green energy. Despite the challenges posed by the current circumstances, my unwavering passion for studying abroad persists. Fuelled by my determination to pursue my dreams, I am eager to apply for international study this year. My undergraduate study in Energy and Power Engineering at China Three Gorges University has instilled in me a deep fascination for electrical engineering. I aspire to pursue a master's degree in Electrical and Electronic Engineering at the University of Auckland to delve deeper into this field and become a proficient electrical engineer.\n",
    "\n",
    "Throughout my undergraduate studies, I diligently built a solid engineering foundation by successfully completing a range of essential courses, including Engineering Fundamentals, Electrical Engineering, Engineering Mechanics, Experimental Fundamentals of Mechanical Design, Power Machinery Testing Techniques, Engineering Software Training, and New Energy Generation Technology. Additionally, I pursued a dual degree in Financial Management to merge my technical expertise with a comprehensive understanding of financial principles, equipping me with a well-rounded skillset applicable to the field of engineering.\n",
    "\n",
    "In extracurricular activities, I actively participated in the New Media Operations Department of the College of Mechanical and Power Engineering's Youth League Committee, managing the committee's official social media account. This role cultivated valuable leadership skills and a strong work ethic. Furthermore, I achieved first prize in the university's hydrodynamic small car competition, which required effective teamwork, innovative problem-solving, and meticulous attention to detail. Engaging in these activities honed my analytical thinking, problem-solving abilities, collaborative skills, and practical application of theoretical knowledge.\n",
    "\n",
    "During my undergraduate studies, I conducted research and completed an undergraduate thesis titled \"Design of Water Turbine Guide Vane Mechanism\". This endeavour demonstrated my proficiency in exploring complex topics, conducting independent research, analysing data, and delivering academic presentations. I actively participated in seminars and workshops, deepening my understanding of system design principles and techniques, high-voltage electrical systems' dynamics, and emerging intelligent distribution technologies. These experiences expanded my technical knowledge and highlighted the importance of interdisciplinary collaboration and staying updated with advancements.\n",
    "\n",
    "In terms of my academic achievements, I have not only established a strong foundation in conducting academic research and comprehending engineering principles but have also had the privilege of working on various projects that have further ignited my passion for electrical engineering. One notable project involved collaborating with a team to design a thermal power plant for a course assignment. This experience allowed me to apply theoretical knowledge to practical engineering design and gain a deeper understanding of the complexities involved in power generation systems. Witnessing the intricate processes and challenges faced in designing a thermal power plant further fuelled my passion for pursuing research and innovation in the field. It inspired me to contribute to the development of sustainable and efficient solutions in power generation, distribution, and utilization.\n",
    "\n",
    "The cutting-edge research conducted by the esteemed faculty in the Electrical and Electronic Engineering department at the University of Auckland captivated me. The university's research focus on power systems, renewable energy, electrical machinery, and information technology aligns perfectly with my research interests. I am enthusiastic in contributing to ongoing research projects at the forefront of advancements in Electrical and Electronic Engineering. Pursuing a master's degree in¬¬¬¬¬¬ Electrical and Electronic Engineering at the University of Auckland will equip me with the necessary skills, knowledge, and practical experience to excel in the field.\n",
    "\n",
    "My ultimate career goal is to become a highly skilled electrical engineer who actively contributes to sustainable and efficient solutions in power generation, distribution, and utilization. With this objective in mind, I am eager to pursue the E&E master’s degree at the University of Auckland. I firmly believe that the university's research opportunities and postgraduate programs align perfectly with my academic and career goals, making it the ideal institution for me to further develop my expertise and actively contribute to the advancement of E&E Engineering. With a solid academic foundation, practical experience, and a deep-seated passion for electrical engineering, I am fully prepared for any challenge that will be involved in this programme. I am passionate about starting this exciting new phase of my academic journey, eagerly looking forward to making contribution to the vibrant academic community at the University of Auckland and spearheading innovative solutions to address the global challenges prevalent in the field of electrical systems.\n",
    "\"\"\""
   ]
  },
  {
   "cell_type": "code",
   "execution_count": 24,
   "metadata": {},
   "outputs": [],
   "source": [
    "messages = prompt.format_messages(texts=texts, \n",
    "                                format_instructions=format_instructions)"
   ]
  },
  {
   "cell_type": "code",
   "execution_count": 25,
   "metadata": {},
   "outputs": [
    {
     "data": {
      "text/plain": [
       "[HumanMessage(content='\\nYou are a professional resume builder who specialized in building resumes for postgraduate applications, including master\\'s and PhD\\'s. \\nI will provide you several piecies of information about my background and experience. You will then extract my personal information, education, work experience, research experience, project experience, and personal statement.\\nBelow is the piece of information you will extract from:\\n```\\nName: John Doe | Email: john.doe@example.com | Phone: 1234567890\\nAs a 2022 graduate, I intend to pursue postgraduate studies in New Zealand immediately after completing my undergraduate studies. Despite the impracticality of studying abroad due to the pandemic, I have taken proactive steps of enrolling in online courses during this one-year gap to enhance my knowledge in Electrical and Electronic engineering. These courses have covered essential subjects such as information technology, power systems, and green energy. Despite the challenges posed by the current circumstances, my unwavering passion for studying abroad persists. Fuelled by my determination to pursue my dreams, I am eager to apply for international study this year. My undergraduate study in Energy and Power Engineering at China Three Gorges University has instilled in me a deep fascination for electrical engineering. I aspire to pursue a master\\'s degree in Electrical and Electronic Engineering at the University of Auckland to delve deeper into this field and become a proficient electrical engineer.\\n\\nThroughout my undergraduate studies, I diligently built a solid engineering foundation by successfully completing a range of essential courses, including Engineering Fundamentals, Electrical Engineering, Engineering Mechanics, Experimental Fundamentals of Mechanical Design, Power Machinery Testing Techniques, Engineering Software Training, and New Energy Generation Technology. Additionally, I pursued a dual degree in Financial Management to merge my technical expertise with a comprehensive understanding of financial principles, equipping me with a well-rounded skillset applicable to the field of engineering.\\n\\nIn extracurricular activities, I actively participated in the New Media Operations Department of the College of Mechanical and Power Engineering\\'s Youth League Committee, managing the committee\\'s official social media account. This role cultivated valuable leadership skills and a strong work ethic. Furthermore, I achieved first prize in the university\\'s hydrodynamic small car competition, which required effective teamwork, innovative problem-solving, and meticulous attention to detail. Engaging in these activities honed my analytical thinking, problem-solving abilities, collaborative skills, and practical application of theoretical knowledge.\\n\\nDuring my undergraduate studies, I conducted research and completed an undergraduate thesis titled \"Design of Water Turbine Guide Vane Mechanism\". This endeavour demonstrated my proficiency in exploring complex topics, conducting independent research, analysing data, and delivering academic presentations. I actively participated in seminars and workshops, deepening my understanding of system design principles and techniques, high-voltage electrical systems\\' dynamics, and emerging intelligent distribution technologies. These experiences expanded my technical knowledge and highlighted the importance of interdisciplinary collaboration and staying updated with advancements.\\n\\nIn terms of my academic achievements, I have not only established a strong foundation in conducting academic research and comprehending engineering principles but have also had the privilege of working on various projects that have further ignited my passion for electrical engineering. One notable project involved collaborating with a team to design a thermal power plant for a course assignment. This experience allowed me to apply theoretical knowledge to practical engineering design and gain a deeper understanding of the complexities involved in power generation systems. Witnessing the intricate processes and challenges faced in designing a thermal power plant further fuelled my passion for pursuing research and innovation in the field. It inspired me to contribute to the development of sustainable and efficient solutions in power generation, distribution, and utilization.\\n\\nThe cutting-edge research conducted by the esteemed faculty in the Electrical and Electronic Engineering department at the University of Auckland captivated me. The university\\'s research focus on power systems, renewable energy, electrical machinery, and information technology aligns perfectly with my research interests. I am enthusiastic in contributing to ongoing research projects at the forefront of advancements in Electrical and Electronic Engineering. Pursuing a master\\'s degree in¬¬¬¬¬¬ Electrical and Electronic Engineering at the University of Auckland will equip me with the necessary skills, knowledge, and practical experience to excel in the field.\\n\\nMy ultimate career goal is to become a highly skilled electrical engineer who actively contributes to sustainable and efficient solutions in power generation, distribution, and utilization. With this objective in mind, I am eager to pursue the E&E master’s degree at the University of Auckland. I firmly believe that the university\\'s research opportunities and postgraduate programs align perfectly with my academic and career goals, making it the ideal institution for me to further develop my expertise and actively contribute to the advancement of E&E Engineering. With a solid academic foundation, practical experience, and a deep-seated passion for electrical engineering, I am fully prepared for any challenge that will be involved in this programme. I am passionate about starting this exciting new phase of my academic journey, eagerly looking forward to making contribution to the vibrant academic community at the University of Auckland and spearheading innovative solutions to address the global challenges prevalent in the field of electrical systems.\\n```\\n\\nThen extract my personal information, education, work experience, research experience, project experience, and personal statement as much as you can.\\nThe output should be formatted as a JSON instance that conforms to the JSON schema below.\\n\\nAs an example, for the schema {\"properties\": {\"foo\": {\"title\": \"Foo\", \"description\": \"a list of strings\", \"type\": \"array\", \"items\": {\"type\": \"string\"}}}, \"required\": [\"foo\"]}}\\nthe object {\"foo\": [\"bar\", \"baz\"]} is a well-formatted instance of the schema. The object {\"properties\": {\"foo\": [\"bar\", \"baz\"]}} is not well-formatted.\\n\\nHere is the output schema:\\n```\\n{\"properties\": {\"personal_info\": {\"$ref\": \"#/definitions/PersonalInfo\"}, \"education\": {\"title\": \"Education\", \"type\": \"array\", \"items\": {\"$ref\": \"#/definitions/Education\"}}, \"work_experience\": {\"title\": \"Work Experience\", \"type\": \"array\", \"items\": {\"$ref\": \"#/definitions/WorkExperience\"}}, \"research_experience\": {\"title\": \"Research Experience\", \"type\": \"array\", \"items\": {\"$ref\": \"#/definitions/ResearchExperience\"}}, \"project_experience\": {\"title\": \"Project Experience\", \"type\": \"array\", \"items\": {\"$ref\": \"#/definitions/ProjectExperience\"}}, \"personal_statement\": {\"title\": \"Personal Statement\", \"type\": \"string\"}}, \"definitions\": {\"PersonalInfo\": {\"title\": \"PersonalInfo\", \"type\": \"object\", \"properties\": {\"name\": {\"title\": \"Name\", \"type\": \"string\"}, \"email\": {\"title\": \"Email\", \"type\": \"string\"}, \"phone\": {\"title\": \"Phone\", \"type\": \"string\"}}}, \"Education\": {\"title\": \"Education\", \"type\": \"object\", \"properties\": {\"degree\": {\"title\": \"Degree\", \"type\": \"string\"}, \"university\": {\"title\": \"University\", \"type\": \"string\"}, \"graduation_date\": {\"title\": \"Graduation Date\", \"type\": \"string\"}}}, \"WorkExperience\": {\"title\": \"WorkExperience\", \"type\": \"object\", \"properties\": {\"company\": {\"title\": \"Company\", \"type\": \"string\"}, \"position\": {\"title\": \"Position\", \"type\": \"string\"}, \"start_date\": {\"title\": \"Start Date\", \"type\": \"string\"}, \"end_date\": {\"title\": \"End Date\", \"type\": \"string\"}, \"summary\": {\"title\": \"Summary\", \"type\": \"string\"}, \"bullet_points\": {\"title\": \"Bullet Points\", \"type\": \"array\", \"items\": {\"type\": \"string\"}}}}, \"ResearchExperience\": {\"title\": \"ResearchExperience\", \"type\": \"object\", \"properties\": {\"organization\": {\"title\": \"Organization\", \"type\": \"string\"}, \"position\": {\"title\": \"Position\", \"type\": \"string\"}, \"start_date\": {\"title\": \"Start Date\", \"type\": \"string\"}, \"end_date\": {\"title\": \"End Date\", \"type\": \"string\"}, \"summary\": {\"title\": \"Summary\", \"type\": \"string\"}, \"bullet_points\": {\"title\": \"Bullet Points\", \"type\": \"array\", \"items\": {\"type\": \"string\"}}}}, \"ProjectExperience\": {\"title\": \"ProjectExperience\", \"type\": \"object\", \"properties\": {\"name\": {\"title\": \"Name\", \"type\": \"string\"}, \"start_date\": {\"title\": \"Start Date\", \"type\": \"string\"}, \"end_date\": {\"title\": \"End Date\", \"type\": \"string\"}, \"summary\": {\"title\": \"Summary\", \"type\": \"string\"}, \"bullet_points\": {\"title\": \"Bullet Points\", \"type\": \"array\", \"items\": {\"type\": \"string\"}}}}}}\\n```\\n', additional_kwargs={}, example=False)]"
      ]
     },
     "execution_count": 25,
     "metadata": {},
     "output_type": "execute_result"
    }
   ],
   "source": [
    "messages"
   ]
  },
  {
   "cell_type": "code",
   "execution_count": 26,
   "metadata": {},
   "outputs": [],
   "source": [
    "output = llm(messages)"
   ]
  },
  {
   "cell_type": "code",
   "execution_count": 27,
   "metadata": {},
   "outputs": [
    {
     "data": {
      "text/plain": [
       "'{\\n  \"personal_info\": {\\n    \"name\": \"John Doe\",\\n    \"email\": \"john.doe@example.com\",\\n    \"phone\": \"1234567890\"\\n  },\\n  \"education\": [\\n    {\\n      \"degree\": \"Undergraduate\",\\n      \"university\": \"China Three Gorges University\",\\n      \"graduation_date\": \"2022\"\\n    }\\n  ],\\n  \"work_experience\": [\\n    {\\n      \"company\": \"College of Mechanical and Power Engineering\\'s Youth League Committee\",\\n      \"position\": \"New Media Operations Department\",\\n      \"start_date\": \"Unknown\",\\n      \"end_date\": \"Unknown\",\\n      \"summary\": \"Managed the committee\\'s official social media account\",\\n      \"bullet_points\": []\\n    }\\n  ],\\n  \"research_experience\": [\\n    {\\n      \"organization\": \"Unknown\",\\n      \"position\": \"Undergraduate researcher\",\\n      \"start_date\": \"Unknown\",\\n      \"end_date\": \"Unknown\",\\n      \"summary\": \"Conducted research and completed an undergraduate thesis on the topic \\'Design of Water Turbine Guide Vane Mechanism\\'\",\\n      \"bullet_points\": []\\n    }\\n  ],\\n  \"project_experience\": [\\n    {\\n      \"name\": \"Thermal Power Plant Design\",\\n      \"start_date\": \"Unknown\",\\n      \"end_date\": \"Unknown\",\\n      \"summary\": \"Collaborated with a team to design a thermal power plant for a course assignment\",\\n      \"bullet_points\": []\\n    }\\n  ],\\n  \"personal_statement\": \"As a 2022 graduate, I intend to pursue postgraduate studies in New Zealand immediately after completing my undergraduate studies...\"\\n}'"
      ]
     },
     "execution_count": 27,
     "metadata": {},
     "output_type": "execute_result"
    }
   ],
   "source": [
    "output.content"
   ]
  },
  {
   "cell_type": "code",
   "execution_count": 28,
   "metadata": {},
   "outputs": [
    {
     "data": {
      "text/plain": [
       "Resume(personal_info=PersonalInfo(name='John Doe', email='john.doe@example.com', phone='1234567890'), education=[Education(degree='Undergraduate', university='China Three Gorges University', graduation_date='2022')], work_experience=[WorkExperience(company=\"College of Mechanical and Power Engineering's Youth League Committee\", position='New Media Operations Department', start_date='Unknown', end_date='Unknown', summary=\"Managed the committee's official social media account\", bullet_points=[])], research_experience=[ResearchExperience(organization='Unknown', position='Undergraduate researcher', start_date='Unknown', end_date='Unknown', summary=\"Conducted research and completed an undergraduate thesis on the topic 'Design of Water Turbine Guide Vane Mechanism'\", bullet_points=[])], project_experience=[ProjectExperience(name='Thermal Power Plant Design', start_date='Unknown', end_date='Unknown', summary='Collaborated with a team to design a thermal power plant for a course assignment', bullet_points=[])], personal_statement='As a 2022 graduate, I intend to pursue postgraduate studies in New Zealand immediately after completing my undergraduate studies...')"
      ]
     },
     "execution_count": 28,
     "metadata": {},
     "output_type": "execute_result"
    }
   ],
   "source": [
    "resume = pydantic_parser.parse(output.content)\n",
    "\n",
    "resume"
   ]
  },
  {
   "cell_type": "code",
   "execution_count": 29,
   "metadata": {},
   "outputs": [],
   "source": [
    "import json\n",
    "with open(\"input.json\", \"w\") as f:\n",
    "    json.dump(resume.dict(), f)"
   ]
  },
  {
   "cell_type": "code",
   "execution_count": null,
   "metadata": {},
   "outputs": [],
   "source": []
  },
  {
   "cell_type": "code",
   "execution_count": null,
   "metadata": {},
   "outputs": [],
   "source": []
  }
 ],
 "metadata": {
  "kernelspec": {
   "display_name": ".venv",
   "language": "python",
   "name": "python3"
  },
  "language_info": {
   "codemirror_mode": {
    "name": "ipython",
    "version": 3
   },
   "file_extension": ".py",
   "mimetype": "text/x-python",
   "name": "python",
   "nbconvert_exporter": "python",
   "pygments_lexer": "ipython3",
   "version": "3.9.6"
  },
  "orig_nbformat": 4
 },
 "nbformat": 4,
 "nbformat_minor": 2
}
