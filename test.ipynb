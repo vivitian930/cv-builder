{
 "cells": [
  {
   "cell_type": "code",
   "execution_count": 22,
   "metadata": {},
   "outputs": [],
   "source": [
    "from langchain.output_parsers import PydanticOutputParser\n",
    "from pydantic import BaseModel, Field, validator\n",
    "from typing import List\n",
    "\n",
    "from langchain.chat_models import AzureChatOpenAI\n",
    "from langchain.prompts import PromptTemplate, ChatPromptTemplate, HumanMessagePromptTemplate\n",
    "from cv_builder.models import Resume\n",
    "from dotenv import load_dotenv\n",
    "\n",
    "load_dotenv()\n",
    "\n",
    "\n",
    "llm = AzureChatOpenAI(\n",
    "    deployment_name=\"gpt-35-16k\",\n",
    "    temperature=1,\n",
    "    # verbose=False,\n",
    "    # streaming=True,\n",
    "\n",
    ")\n",
    "\n",
    "# Set up a parser + inject instructions into the prompt template.\n",
    "pydantic_parser = PydanticOutputParser(pydantic_object=Resume)\n",
    "\n",
    "format_instructions = pydantic_parser.get_format_instructions()\n",
    "\n",
    "template_string = \"\"\"\n",
    "You are a professional resume builder who specialized in building resumes for postgraduate applications, including master's and PhD's. \n",
    "I will provide you several piecies of information about my background and experience. You will then extract my personal information, education, work experience, research experience, project experience, and personal statement.\n",
    "Below is the piece of information you will extract from:\n",
    "```{texts}```\n",
    "\n",
    "Then extract my personal information, education, work experience, research experience, project experience, and personal statement as much as you can.\n",
    "{format_instructions}\n",
    "\"\"\"\n",
    "\n",
    "prompt = ChatPromptTemplate.from_template(template=template_string)\n",
    "\n"
   ]
  },
  {
   "cell_type": "code",
   "execution_count": 30,
   "metadata": {},
   "outputs": [],
   "source": [
    "texts = \"\"\"\n",
    "Name: John Doe | Email: john.doe@example.com | Phone: 1234567890\n",
    "\"\"\" "
   ]
  },
  {
   "cell_type": "code",
   "execution_count": 31,
   "metadata": {},
   "outputs": [],
   "source": [
    "messages = prompt.format_messages(texts=texts, \n",
    "                                format_instructions=format_instructions)"
   ]
  },
  {
   "cell_type": "code",
   "execution_count": 32,
   "metadata": {},
   "outputs": [
    {
     "data": {
      "text/plain": [
       "[HumanMessage(content='\\nYou are a professional resume builder who specialized in building resumes for postgraduate applications, including master\\'s and PhD\\'s. \\nI will provide you several piecies of information about my background and experience. You will then extract my personal information, education, work experience, research experience, project experience, and personal statement.\\nBelow is the piece of information you will extract from:\\n```\\nName: John Doe | Email: john.doe@example.com | Phone: 1234567890\\n```\\n\\nThen extract my personal information, education, work experience, research experience, project experience, and personal statement as much as you can.\\nThe output should be formatted as a JSON instance that conforms to the JSON schema below.\\n\\nAs an example, for the schema {\"properties\": {\"foo\": {\"title\": \"Foo\", \"description\": \"a list of strings\", \"type\": \"array\", \"items\": {\"type\": \"string\"}}}, \"required\": [\"foo\"]}}\\nthe object {\"foo\": [\"bar\", \"baz\"]} is a well-formatted instance of the schema. The object {\"properties\": {\"foo\": [\"bar\", \"baz\"]}} is not well-formatted.\\n\\nHere is the output schema:\\n```\\n{\"properties\": {\"personal_info\": {\"$ref\": \"#/definitions/PersonalInfo\"}, \"education\": {\"title\": \"Education\", \"type\": \"array\", \"items\": {\"$ref\": \"#/definitions/Education\"}}, \"work_experience\": {\"title\": \"Work Experience\", \"type\": \"array\", \"items\": {\"$ref\": \"#/definitions/WorkExperience\"}}, \"research_experience\": {\"title\": \"Research Experience\", \"type\": \"array\", \"items\": {\"$ref\": \"#/definitions/ResearchExperience\"}}, \"project_experience\": {\"title\": \"Project Experience\", \"type\": \"array\", \"items\": {\"$ref\": \"#/definitions/ProjectExperience\"}}, \"personal_statement\": {\"title\": \"Personal Statement\", \"type\": \"string\"}}, \"definitions\": {\"PersonalInfo\": {\"title\": \"PersonalInfo\", \"type\": \"object\", \"properties\": {\"name\": {\"title\": \"Name\", \"type\": \"string\"}, \"email\": {\"title\": \"Email\", \"type\": \"string\"}, \"phone\": {\"title\": \"Phone\", \"type\": \"string\"}}}, \"Education\": {\"title\": \"Education\", \"type\": \"object\", \"properties\": {\"degree\": {\"title\": \"Degree\", \"type\": \"string\"}, \"university\": {\"title\": \"University\", \"type\": \"string\"}, \"graduation_date\": {\"title\": \"Graduation Date\", \"type\": \"string\"}}}, \"WorkExperience\": {\"title\": \"WorkExperience\", \"type\": \"object\", \"properties\": {\"company\": {\"title\": \"Company\", \"type\": \"string\"}, \"position\": {\"title\": \"Position\", \"type\": \"string\"}, \"start_date\": {\"title\": \"Start Date\", \"type\": \"string\"}, \"end_date\": {\"title\": \"End Date\", \"type\": \"string\"}, \"summary\": {\"title\": \"Summary\", \"type\": \"string\"}, \"bullet_points\": {\"title\": \"Bullet Points\", \"type\": \"array\", \"items\": {\"type\": \"string\"}}}}, \"ResearchExperience\": {\"title\": \"ResearchExperience\", \"type\": \"object\", \"properties\": {\"organization\": {\"title\": \"Organization\", \"type\": \"string\"}, \"position\": {\"title\": \"Position\", \"type\": \"string\"}, \"start_date\": {\"title\": \"Start Date\", \"type\": \"string\"}, \"end_date\": {\"title\": \"End Date\", \"type\": \"string\"}, \"summary\": {\"title\": \"Summary\", \"type\": \"string\"}, \"bullet_points\": {\"title\": \"Bullet Points\", \"type\": \"array\", \"items\": {\"type\": \"string\"}}}}, \"ProjectExperience\": {\"title\": \"ProjectExperience\", \"type\": \"object\", \"properties\": {\"name\": {\"title\": \"Name\", \"type\": \"string\"}, \"start_date\": {\"title\": \"Start Date\", \"type\": \"string\"}, \"end_date\": {\"title\": \"End Date\", \"type\": \"string\"}, \"summary\": {\"title\": \"Summary\", \"type\": \"string\"}, \"bullet_points\": {\"title\": \"Bullet Points\", \"type\": \"array\", \"items\": {\"type\": \"string\"}}}}}}\\n```\\n', additional_kwargs={}, example=False)]"
      ]
     },
     "execution_count": 32,
     "metadata": {},
     "output_type": "execute_result"
    }
   ],
   "source": [
    "messages"
   ]
  },
  {
   "cell_type": "code",
   "execution_count": 33,
   "metadata": {},
   "outputs": [],
   "source": [
    "output = llm(messages)"
   ]
  },
  {
   "cell_type": "code",
   "execution_count": 27,
   "metadata": {},
   "outputs": [
    {
     "data": {
      "text/plain": [
       "'{\\n  \"personal_info\": {\\n    \"name\": \"John Doe\",\\n    \"email\": \"john.doe@example.com\",\\n    \"phone\": \"1234567890\"\\n  },\\n  \"education\": [\\n    {\\n      \"degree\": \"Undergraduate\",\\n      \"university\": \"China Three Gorges University\",\\n      \"graduation_date\": \"2022\"\\n    }\\n  ],\\n  \"work_experience\": [\\n    {\\n      \"company\": \"College of Mechanical and Power Engineering\\'s Youth League Committee\",\\n      \"position\": \"New Media Operations Department\",\\n      \"start_date\": \"Unknown\",\\n      \"end_date\": \"Unknown\",\\n      \"summary\": \"Managed the committee\\'s official social media account\",\\n      \"bullet_points\": []\\n    }\\n  ],\\n  \"research_experience\": [\\n    {\\n      \"organization\": \"Unknown\",\\n      \"position\": \"Undergraduate researcher\",\\n      \"start_date\": \"Unknown\",\\n      \"end_date\": \"Unknown\",\\n      \"summary\": \"Conducted research and completed an undergraduate thesis on the topic \\'Design of Water Turbine Guide Vane Mechanism\\'\",\\n      \"bullet_points\": []\\n    }\\n  ],\\n  \"project_experience\": [\\n    {\\n      \"name\": \"Thermal Power Plant Design\",\\n      \"start_date\": \"Unknown\",\\n      \"end_date\": \"Unknown\",\\n      \"summary\": \"Collaborated with a team to design a thermal power plant for a course assignment\",\\n      \"bullet_points\": []\\n    }\\n  ],\\n  \"personal_statement\": \"As a 2022 graduate, I intend to pursue postgraduate studies in New Zealand immediately after completing my undergraduate studies...\"\\n}'"
      ]
     },
     "execution_count": 27,
     "metadata": {},
     "output_type": "execute_result"
    }
   ],
   "source": [
    "output.content"
   ]
  },
  {
   "cell_type": "code",
   "execution_count": 28,
   "metadata": {},
   "outputs": [
    {
     "data": {
      "text/plain": [
       "Resume(personal_info=PersonalInfo(name='John Doe', email='john.doe@example.com', phone='1234567890'), education=[Education(degree='Undergraduate', university='China Three Gorges University', graduation_date='2022')], work_experience=[WorkExperience(company=\"College of Mechanical and Power Engineering's Youth League Committee\", position='New Media Operations Department', start_date='Unknown', end_date='Unknown', summary=\"Managed the committee's official social media account\", bullet_points=[])], research_experience=[ResearchExperience(organization='Unknown', position='Undergraduate researcher', start_date='Unknown', end_date='Unknown', summary=\"Conducted research and completed an undergraduate thesis on the topic 'Design of Water Turbine Guide Vane Mechanism'\", bullet_points=[])], project_experience=[ProjectExperience(name='Thermal Power Plant Design', start_date='Unknown', end_date='Unknown', summary='Collaborated with a team to design a thermal power plant for a course assignment', bullet_points=[])], personal_statement='As a 2022 graduate, I intend to pursue postgraduate studies in New Zealand immediately after completing my undergraduate studies...')"
      ]
     },
     "execution_count": 28,
     "metadata": {},
     "output_type": "execute_result"
    }
   ],
   "source": [
    "resume = pydantic_parser.parse(output.content)\n",
    "\n",
    "resume"
   ]
  },
  {
   "cell_type": "code",
   "execution_count": 29,
   "metadata": {},
   "outputs": [],
   "source": [
    "import json\n",
    "with open(\"input.json\", \"w\") as f:\n",
    "    json.dump(resume.dict(), f)"
   ]
  },
  {
   "cell_type": "code",
   "execution_count": null,
   "metadata": {},
   "outputs": [],
   "source": []
  },
  {
   "cell_type": "code",
   "execution_count": null,
   "metadata": {},
   "outputs": [],
   "source": []
  }
 ],
 "metadata": {
  "kernelspec": {
   "display_name": ".venv",
   "language": "python",
   "name": "python3"
  },
  "language_info": {
   "codemirror_mode": {
    "name": "ipython",
    "version": 3
   },
   "file_extension": ".py",
   "mimetype": "text/x-python",
   "name": "python",
   "nbconvert_exporter": "python",
   "pygments_lexer": "ipython3",
   "version": "3.9.6"
  },
  "orig_nbformat": 4
 },
 "nbformat": 4,
 "nbformat_minor": 2
}
